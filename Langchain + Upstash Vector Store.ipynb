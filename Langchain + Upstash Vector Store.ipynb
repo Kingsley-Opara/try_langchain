{
 "cells": [
  {
   "cell_type": "code",
   "execution_count": 1,
   "id": "cb55c045-81c5-4b47-a6c6-bdcccd217c11",
   "metadata": {},
   "outputs": [
    {
     "data": {
      "text/plain": [
       "True"
      ]
     },
     "execution_count": 1,
     "metadata": {},
     "output_type": "execute_result"
    }
   ],
   "source": [
    "from dotenv import load_dotenv\n",
    "\n",
    "import os\n",
    "\n",
    "GEMINI_API_KEY = os.environ.get(\"GEMINI_KEY_API\")\n",
    "\n",
    "UPSTASH_VECTOR_REST_URL = os.environ.get(\"UPSTASH_VECTOR_REST_URL\")\n",
    "                                         \n",
    "UPSTASH_VECTOR_REST_TOKEN = os.environ.get(\"UPSTASH_VECTOR_REST_TOKEN\")\n",
    "\n",
    "load_dotenv()"
   ]
  },
  {
   "cell_type": "code",
   "execution_count": 32,
   "id": "5d8f50c7-745f-4e09-aacf-00513e3cc7ec",
   "metadata": {},
   "outputs": [
    {
     "data": {
      "text/plain": [
       "[0.05168594419956207,\n",
       " -0.030764883384108543,\n",
       " -0.03062233328819275,\n",
       " -0.02802734263241291,\n",
       " 0.01813093200325966]"
      ]
     },
     "execution_count": 32,
     "metadata": {},
     "output_type": "execute_result"
    }
   ],
   "source": [
    "from langchain_google_genai import GoogleGenerativeAIEmbeddings\n",
    "\n",
    "if \"GOOGLE_API_KEY\" not in os.environ:\n",
    "    os.environ[\"GOOGLE_API_KEY\"] = GEMINI_API_KEY\n",
    "\n",
    "\n",
    "\n",
    "embeddings = GoogleGenerativeAIEmbeddings(model=\"models/embedding-001\")\n",
    "vector = embeddings.embed_query(\"hello, world!\")\n",
    "vector[:5]"
   ]
  },
  {
   "cell_type": "code",
   "execution_count": 33,
   "id": "656ae6ad-ae2e-45ac-843a-dde8389fa978",
   "metadata": {},
   "outputs": [],
   "source": [
    "from langchain_community.vectorstores import UpstashVectorStore\n",
    "\n",
    "store = UpstashVectorStore(\n",
    "    embedding=embeddings,\n",
    "    index_url = UPSTASH_VECTOR_REST_URL,\n",
    "    index_token = UPSTASH_VECTOR_REST_TOKEN \n",
    ")"
   ]
  },
  {
   "cell_type": "code",
   "execution_count": 34,
   "id": "3280eb1f-6f3c-4a42-bf3d-b97434643c7b",
   "metadata": {},
   "outputs": [],
   "source": [
    "retriever = store.as_retriever(\n",
    "    search_type = \"similarity\",\n",
    "    search_kwargs = {'k':2}\n",
    ")"
   ]
  },
  {
   "cell_type": "code",
   "execution_count": 35,
   "id": "ed470bc6-4104-4e10-8038-e6a6c3bbb603",
   "metadata": {},
   "outputs": [
    {
     "data": {
      "text/plain": [
       "[Document(metadata={'source': 'https://en.wikipedia.org/wiki/Boise,_Idaho', 'title': 'Boise, Idaho'}, page_content=' landmark, an oasis dominated by cottonwood trees. This led the French trappers to call the area \"la rivière boisée\" (\"the wooded river\").\\n\\n\\n==== Pronunciation ====\\nMost local and longtime residents use the pronunciation /ˈbɔɪsiː/ (BOY-see), as given on the city\\'s website. The pronunciation is sometimes used as a shibboleth, as outsiders (and newcomers) tend to mispronounce the city\\'s name as /ˈbɔ'),\n",
       " Document(metadata={'source': 'https://en.wikipedia.org/wiki/Boise,_Idaho', 'title': 'Boise, Idaho'}, page_content='-speaking guide, overwhelmed by the sight of the verdant river, yelled \"Les bois! Les bois!\" (\"The woods! The woods!\")—and the name stuck.\\nThe name may also derive from earlier mountain men who named the river that flows through the city. In the 1820s, French Canadian fur trappers associated with the British-owned Hudson\\'s Bay Company set trap lines in the vicinity. Set in a high-desert area, the tree-lined valley of the Boise River became a distinct')]"
      ]
     },
     "execution_count": 35,
     "metadata": {},
     "output_type": "execute_result"
    }
   ],
   "source": [
    "retriever.invoke(\"what is the city name after trees\")"
   ]
  },
  {
   "cell_type": "code",
   "execution_count": 36,
   "id": "1b3c03c5-b918-495a-9929-1d0ec07e3832",
   "metadata": {},
   "outputs": [],
   "source": [
    "from langchain_google_genai import GoogleGenerativeAI\n",
    "from langchain_core.output_parsers import StrOutputParser"
   ]
  },
  {
   "cell_type": "code",
   "execution_count": 37,
   "id": "6a188f2b-a5d8-4bc2-ab7d-1af6e7d76d10",
   "metadata": {},
   "outputs": [],
   "source": [
    "LLM_CONFIG = {\n",
    "    \"model\": \"gemini-1.5-pro\",\n",
    "    \"google_api_key\": GEMINI_API_KEY\n",
    "\n",
    "}\n",
    "\n",
    "llm = GoogleGenerativeAI(**LLM_CONFIG)"
   ]
  },
  {
   "cell_type": "code",
   "execution_count": 51,
   "id": "7c988110-774b-4e8a-8e5e-695329a92199",
   "metadata": {},
   "outputs": [],
   "source": [
    "from langchain_core.prompts import ChatPromptTemplate\n",
    "\n",
    "message = '''\n",
    "Answer this question using the provided context only.\n",
    "\n",
    "{question}\n",
    "\n",
    "Context:\n",
    "{context}\n",
    "'''\n",
    "\n",
    "prompt = ChatPromptTemplate.from_messages(\n",
    "    [\n",
    "        (\"system\", \"if the user is greeting then respond to the greeting\"),\n",
    "        (\"human\", message)\n",
    "    ]\n",
    ")"
   ]
  },
  {
   "cell_type": "code",
   "execution_count": 52,
   "id": "523ab6e3-cc8a-417d-8f5c-e78c20b494d8",
   "metadata": {},
   "outputs": [],
   "source": [
    "from langchain_core.runnables import RunnableParallel, RunnablePassthrough\n",
    "\n",
    "runnable = RunnableParallel(\n",
    "    passed = RunnablePassthrough(),\n",
    "    modified = lambda x: x[\"num\"] + 1\n",
    ")\n",
    "\n",
    "parser = StrOutputParser()"
   ]
  },
  {
   "cell_type": "code",
   "execution_count": 53,
   "id": "1ff55cc4-7c8b-4b5b-a3ab-75e6ada6a09c",
   "metadata": {},
   "outputs": [],
   "source": [
    "chain = {\"context\": retriever, \"question\": RunnablePassthrough()} | prompt | llm | parser"
   ]
  },
  {
   "cell_type": "code",
   "execution_count": 67,
   "id": "fba2e8ab-b536-4b1d-9040-aaeccf125ce4",
   "metadata": {},
   "outputs": [
    {
     "data": {
      "text/plain": [
       "'I am doing well, thank you for asking.\\n'"
      ]
     },
     "execution_count": 67,
     "metadata": {},
     "output_type": "execute_result"
    }
   ],
   "source": [
    "chain.invoke(\"Hope you're fine?\")"
   ]
  },
  {
   "cell_type": "code",
   "execution_count": null,
   "id": "d290c278-f8cc-45f9-8f6c-17e664639468",
   "metadata": {},
   "outputs": [],
   "source": []
  },
  {
   "cell_type": "code",
   "execution_count": null,
   "id": "6b1c4bb6-a425-4c78-a560-4dddae028510",
   "metadata": {},
   "outputs": [],
   "source": []
  }
 ],
 "metadata": {
  "kernelspec": {
   "display_name": "Python 3 (ipykernel)",
   "language": "python",
   "name": "python3"
  },
  "language_info": {
   "codemirror_mode": {
    "name": "ipython",
    "version": 3
   },
   "file_extension": ".py",
   "mimetype": "text/x-python",
   "name": "python",
   "nbconvert_exporter": "python",
   "pygments_lexer": "ipython3",
   "version": "3.10.11"
  }
 },
 "nbformat": 4,
 "nbformat_minor": 5
}
