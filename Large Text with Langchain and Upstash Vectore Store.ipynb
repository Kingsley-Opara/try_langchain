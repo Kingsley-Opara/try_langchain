{
 "cells": [
  {
   "cell_type": "code",
   "execution_count": 1,
   "id": "c2e71778-f1d3-412d-bfb1-983133db0a3e",
   "metadata": {},
   "outputs": [
    {
     "name": "stdout",
     "output_type": "stream",
     "text": [
      "Requirement already satisfied: wikipedia in c:\\users\\tablet\\devworkspace\\practice\\try_langchain\\venv\\lib\\site-packages (1.4.0)\n",
      "Requirement already satisfied: beautifulsoup4 in c:\\users\\tablet\\devworkspace\\practice\\try_langchain\\venv\\lib\\site-packages (from wikipedia) (4.12.3)\n",
      "Requirement already satisfied: requests<3.0.0,>=2.0.0 in c:\\users\\tablet\\devworkspace\\practice\\try_langchain\\venv\\lib\\site-packages (from wikipedia) (2.32.3)\n",
      "Requirement already satisfied: charset-normalizer<4,>=2 in c:\\users\\tablet\\devworkspace\\practice\\try_langchain\\venv\\lib\\site-packages (from requests<3.0.0,>=2.0.0->wikipedia) (3.4.0)\n",
      "Requirement already satisfied: idna<4,>=2.5 in c:\\users\\tablet\\devworkspace\\practice\\try_langchain\\venv\\lib\\site-packages (from requests<3.0.0,>=2.0.0->wikipedia) (3.10)\n",
      "Requirement already satisfied: certifi>=2017.4.17 in c:\\users\\tablet\\devworkspace\\practice\\try_langchain\\venv\\lib\\site-packages (from requests<3.0.0,>=2.0.0->wikipedia) (2024.8.30)\n",
      "Requirement already satisfied: urllib3<3,>=1.21.1 in c:\\users\\tablet\\devworkspace\\practice\\try_langchain\\venv\\lib\\site-packages (from requests<3.0.0,>=2.0.0->wikipedia) (2.2.3)\n",
      "Requirement already satisfied: soupsieve>1.2 in c:\\users\\tablet\\devworkspace\\practice\\try_langchain\\venv\\lib\\site-packages (from beautifulsoup4->wikipedia) (2.6)\n",
      "Note: you may need to restart the kernel to use updated packages.\n"
     ]
    },
    {
     "name": "stderr",
     "output_type": "stream",
     "text": [
      "\n",
      "[notice] A new release of pip is available: 23.0.1 -> 24.3\n",
      "[notice] To update, run: python.exe -m pip install --upgrade pip\n"
     ]
    }
   ],
   "source": [
    "%pip install wikipedia"
   ]
  },
  {
   "cell_type": "code",
   "execution_count": 2,
   "id": "dd8bb292-d5d1-42fb-8f48-5d6ecf18388a",
   "metadata": {},
   "outputs": [
    {
     "data": {
      "text/plain": [
       "True"
      ]
     },
     "execution_count": 2,
     "metadata": {},
     "output_type": "execute_result"
    }
   ],
   "source": [
    "import wikipedia\n",
    "\n",
    "from dotenv import load_dotenv\n",
    "\n",
    "load_dotenv()"
   ]
  },
  {
   "cell_type": "code",
   "execution_count": 3,
   "id": "e95945a6-2f06-4b6c-9536-d43bb1c836f5",
   "metadata": {},
   "outputs": [],
   "source": [
    "import os\n",
    "\n",
    "GEMINI_API_KEY = os.environ.get(\"GEMINI_KEY_API\")\n",
    "\n",
    "UPSTASH_VECTOR_REST_URL = os.environ.get(\"UPSTASH_VECTOR_REST_URL\")\n",
    "                                         \n",
    "UPSTASH_VECTOR_REST_TOKEN = os.environ.get(\"UPSTASH_VECTOR_REST_TOKEN\")\n"
   ]
  },
  {
   "cell_type": "code",
   "execution_count": 4,
   "id": "22e83ae6-7bb0-4481-a7c9-530dd88e7f49",
   "metadata": {},
   "outputs": [],
   "source": [
    "ny = wikipedia.page(title= \"Owerri, Imo state\") "
   ]
  },
  {
   "cell_type": "code",
   "execution_count": 55,
   "id": "025b555e-8bfa-4193-8267-9ad7b46d744f",
   "metadata": {},
   "outputs": [],
   "source": [
    "# ny.content\n",
    "# wikipedia.search(\"streptococcus pneumonia\")\n",
    "\n",
    "from langchain_google_genai import GoogleGenerativeAIEmbeddings\n",
    "\n",
    "if \"GOOGLE_API_KEY\" not in os.environ:\n",
    "    os.environ[\"GOOGLE_API_KEY\"] = GEMINI_API_KEY\n",
    "\n",
    "\n",
    "\n",
    "embeddings = GoogleGenerativeAIEmbeddings(model=\"models/embedding-001\")\n"
   ]
  },
  {
   "cell_type": "code",
   "execution_count": 33,
   "id": "6d44aa0f-fa6e-41dc-a360-db13bd3b2ebb",
   "metadata": {},
   "outputs": [],
   "source": [
    "from langchain_community.vectorstores import UpstashVectorStore\n",
    "\n",
    "store = UpstashVectorStore(\n",
    "    embedding=embeddings,\n",
    "    index_url = UPSTASH_VECTOR_REST_URL,\n",
    "    index_token = UPSTASH_VECTOR_REST_TOKEN \n",
    ")"
   ]
  },
  {
   "cell_type": "code",
   "execution_count": 34,
   "id": "cbe64487-7fe8-43a2-b412-462c3bf44b25",
   "metadata": {},
   "outputs": [],
   "source": [
    "from langchain_core.documents import Document\n",
    "\n",
    "documents = []\n",
    "cities = [\"Owerri, Imo state\", \"New York, New York City\", \"Boise, Idaho\"]\n",
    "\n",
    "for city in cities:\n",
    "    wikipedia_page_result = wikipedia.page(title=city)\n",
    "    doc = Document(\n",
    "        page_content = wikipedia_page_result.content,\n",
    "        metadata = {\n",
    "            \"source\": wikipedia_page_result.url,\n",
    "            \"title\": city  \n",
    "        }\n",
    "    )\n",
    "    documents.append(doc)\n",
    "    "
   ]
  },
  {
   "cell_type": "code",
   "execution_count": 35,
   "id": "24c31dc2-8d3d-42eb-a02a-b9732a93d8f4",
   "metadata": {},
   "outputs": [
    {
     "data": {
      "text/plain": [
       "{'source': 'https://en.wikipedia.org/wiki/Boise,_Idaho',\n",
       " 'title': 'Boise, Idaho'}"
      ]
     },
     "execution_count": 35,
     "metadata": {},
     "output_type": "execute_result"
    }
   ],
   "source": [
    "documents[2].metadata"
   ]
  },
  {
   "cell_type": "code",
   "execution_count": 36,
   "id": "7ed47a05-471f-462f-ad87-54f137d646b2",
   "metadata": {},
   "outputs": [
    {
     "name": "stdout",
     "output_type": "stream",
     "text": [
      "Requirement already satisfied: tiktoken in c:\\users\\tablet\\devworkspace\\practice\\try_langchain\\venv\\lib\\site-packages (0.8.0)\n",
      "Requirement already satisfied: requests>=2.26.0 in c:\\users\\tablet\\devworkspace\\practice\\try_langchain\\venv\\lib\\site-packages (from tiktoken) (2.32.3)\n",
      "Requirement already satisfied: regex>=2022.1.18 in c:\\users\\tablet\\devworkspace\\practice\\try_langchain\\venv\\lib\\site-packages (from tiktoken) (2024.9.11)\n",
      "Requirement already satisfied: idna<4,>=2.5 in c:\\users\\tablet\\devworkspace\\practice\\try_langchain\\venv\\lib\\site-packages (from requests>=2.26.0->tiktoken) (3.10)\n",
      "Requirement already satisfied: urllib3<3,>=1.21.1 in c:\\users\\tablet\\devworkspace\\practice\\try_langchain\\venv\\lib\\site-packages (from requests>=2.26.0->tiktoken) (2.2.3)\n",
      "Requirement already satisfied: certifi>=2017.4.17 in c:\\users\\tablet\\devworkspace\\practice\\try_langchain\\venv\\lib\\site-packages (from requests>=2.26.0->tiktoken) (2024.8.30)\n",
      "Requirement already satisfied: charset-normalizer<4,>=2 in c:\\users\\tablet\\devworkspace\\practice\\try_langchain\\venv\\lib\\site-packages (from requests>=2.26.0->tiktoken) (3.4.0)\n",
      "Note: you may need to restart the kernel to use updated packages.\n"
     ]
    },
    {
     "name": "stderr",
     "output_type": "stream",
     "text": [
      "\n",
      "[notice] A new release of pip is available: 23.0.1 -> 24.3\n",
      "[notice] To update, run: python.exe -m pip install --upgrade pip\n"
     ]
    }
   ],
   "source": [
    "%pip install tiktoken"
   ]
  },
  {
   "cell_type": "code",
   "execution_count": 37,
   "id": "98bb69d2-17c5-4c20-9da0-e6d4a1962674",
   "metadata": {},
   "outputs": [],
   "source": [
    "from langchain_text_splitters import TokenTextSplitter\n",
    "\n",
    "text_splitter = TokenTextSplitter.from_tiktoken_encoder(model_name = \"gpt-4o\", chunk_size=100, chunk_overlap=0)"
   ]
  },
  {
   "cell_type": "code",
   "execution_count": 38,
   "id": "6a837937-0c72-408d-87a0-eab81cd8443d",
   "metadata": {},
   "outputs": [],
   "source": [
    "docs = text_splitter.split_documents(documents)"
   ]
  },
  {
   "cell_type": "code",
   "execution_count": 39,
   "id": "7dd0c889-9a38-47ab-b27f-5d785d04e1f9",
   "metadata": {},
   "outputs": [
    {
     "data": {
      "text/plain": [
       "327"
      ]
     },
     "execution_count": 39,
     "metadata": {},
     "output_type": "execute_result"
    }
   ],
   "source": [
    "len(docs)"
   ]
  },
  {
   "cell_type": "code",
   "execution_count": 40,
   "id": "e56f41f6-6f79-49fb-9d80-dd8e81ca822e",
   "metadata": {},
   "outputs": [],
   "source": [
    "insert_vectors = store.add_documents(docs)"
   ]
  },
  {
   "cell_type": "code",
   "execution_count": 51,
   "id": "bec1c2a7-fa3d-4cc3-b79b-f31f6a9eabab",
   "metadata": {},
   "outputs": [
    {
     "name": "stdout",
     "output_type": "stream",
     "text": [
      "{'source': 'https://en.wikipedia.org/wiki/Boise,_Idaho', 'title': 'Boise, Idaho'} - 0.86025506\n",
      "{'source': 'https://en.wikipedia.org/wiki/Boise,_Idaho', 'title': 'Boise, Idaho'} - 0.85201025\n"
     ]
    }
   ],
   "source": [
    "result = store.similarity_search_with_score(\"The city named after tress\", k=2)\n",
    "\n",
    "for doc, score in result:\n",
    "    print(f\"{doc.metadata} - {score}\")"
   ]
  },
  {
   "cell_type": "code",
   "execution_count": 52,
   "id": "73a29756-6d3c-4c03-b95b-f5dd8337bc06",
   "metadata": {},
   "outputs": [
    {
     "data": {
      "text/plain": [
       "[(Document(metadata={'source': 'https://en.wikipedia.org/wiki/Boise,_Idaho', 'title': 'Boise, Idaho'}, page_content=' landmark, an oasis dominated by cottonwood trees. This led the French trappers to call the area \"la rivière boisée\" (\"the wooded river\").\\n\\n\\n==== Pronunciation ====\\nMost local and longtime residents use the pronunciation /ˈbɔɪsiː/ (BOY-see), as given on the city\\'s website. The pronunciation is sometimes used as a shibboleth, as outsiders (and newcomers) tend to mispronounce the city\\'s name as /ˈbɔ'),\n",
       "  0.86025506),\n",
       " (Document(metadata={'source': 'https://en.wikipedia.org/wiki/Boise,_Idaho', 'title': 'Boise, Idaho'}, page_content='-speaking guide, overwhelmed by the sight of the verdant river, yelled \"Les bois! Les bois!\" (\"The woods! The woods!\")—and the name stuck.\\nThe name may also derive from earlier mountain men who named the river that flows through the city. In the 1820s, French Canadian fur trappers associated with the British-owned Hudson\\'s Bay Company set trap lines in the vicinity. Set in a high-desert area, the tree-lined valley of the Boise River became a distinct'),\n",
       "  0.85201025)]"
      ]
     },
     "execution_count": 52,
     "metadata": {},
     "output_type": "execute_result"
    }
   ],
   "source": [
    "result"
   ]
  },
  {
   "cell_type": "code",
   "execution_count": null,
   "id": "41d5a608-dd8f-4787-9d60-d8f165f85444",
   "metadata": {},
   "outputs": [],
   "source": []
  }
 ],
 "metadata": {
  "kernelspec": {
   "display_name": "Python 3 (ipykernel)",
   "language": "python",
   "name": "python3"
  },
  "language_info": {
   "codemirror_mode": {
    "name": "ipython",
    "version": 3
   },
   "file_extension": ".py",
   "mimetype": "text/x-python",
   "name": "python",
   "nbconvert_exporter": "python",
   "pygments_lexer": "ipython3",
   "version": "3.10.11"
  }
 },
 "nbformat": 4,
 "nbformat_minor": 5
}
