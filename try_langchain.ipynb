{
 "cells": [
  {
   "cell_type": "code",
   "execution_count": 1,
   "id": "167fc199-69c5-44cc-9217-089390730dbc",
   "metadata": {},
   "outputs": [
    {
     "data": {
      "text/plain": [
       "True"
      ]
     },
     "execution_count": 1,
     "metadata": {},
     "output_type": "execute_result"
    }
   ],
   "source": [
    "from decouple import config\n",
    "import helpers\n",
    "from dotenv import load_dotenv\n",
    "\n",
    "load_dotenv()"
   ]
  },
  {
   "cell_type": "code",
   "execution_count": 2,
   "id": "7524fc97-60e4-4f4b-be6f-3fd5d0b2ad65",
   "metadata": {},
   "outputs": [],
   "source": [
    "import os\n",
    "\n",
    "GEMINI_API_KEY = os.environ.get(\"GEMINI_KEY_API\")"
   ]
  },
  {
   "cell_type": "code",
   "execution_count": 3,
   "id": "0285e418-3eeb-4856-b1a8-86448330b050",
   "metadata": {},
   "outputs": [],
   "source": [
    "from langchain_openai import ChatOpenAI\n",
    "from langchain_google_genai import ChatGoogleGenerativeAI\n",
    "from langchain_core.output_parsers import StrOutputParser"
   ]
  },
  {
   "cell_type": "code",
   "execution_count": 4,
   "id": "1e14b19f-4d9a-43c0-8ec5-0cd2383954ec",
   "metadata": {},
   "outputs": [],
   "source": [
    "LLM_CONFIG = {\n",
    "    \"model\": \"gemini-1.5-pro\",\n",
    "    \"google_api_key\": GEMINI_API_KEY,\n",
    "}\n",
    "\n",
    "model = ChatGoogleGenerativeAI(**LLM_CONFIG)\n"
   ]
  },
  {
   "cell_type": "code",
   "execution_count": 5,
   "id": "0ed55601-ce62-431c-af36-bc046bdded90",
   "metadata": {},
   "outputs": [],
   "source": [
    "from langchain_core.prompts import ChatPromptTemplate\n",
    "\n",
    "parser = StrOutputParser()\n"
   ]
  },
  {
   "cell_type": "code",
   "execution_count": 6,
   "id": "37a9f04a-123d-48c5-a102-c374aefcdfb7",
   "metadata": {},
   "outputs": [],
   "source": [
    "system_prompt = \"Translate to the following {language}\"\n",
    "\n",
    "prompt_template = ChatPromptTemplate.from_messages(\n",
    "    [\n",
    "        (\"system\", system_prompt),\n",
    "        (\"user\", \"{input_text}\"),\n",
    "    ]\n",
    ")"
   ]
  },
  {
   "cell_type": "code",
   "execution_count": 7,
   "id": "7c914a70-f2cc-4ef2-9fba-28ea40f73247",
   "metadata": {},
   "outputs": [
    {
     "data": {
      "text/plain": [
       "ChatPromptValue(messages=[SystemMessage(content='Translate to the following Spanish', additional_kwargs={}, response_metadata={}), HumanMessage(content='Hello there', additional_kwargs={}, response_metadata={})])"
      ]
     },
     "execution_count": 7,
     "metadata": {},
     "output_type": "execute_result"
    }
   ],
   "source": [
    "prompt_template.invoke({\"language\": \"Spanish\", \"input_text\": \"Hello there\"})"
   ]
  },
  {
   "cell_type": "code",
   "execution_count": 8,
   "id": "e8dd3839-eaee-4613-bef2-8b72d255aad5",
   "metadata": {},
   "outputs": [],
   "source": [
    "# from langchain_core.messages import HumanMessage, SystemMessage"
   ]
  },
  {
   "cell_type": "code",
   "execution_count": 9,
   "id": "50178754-a8b3-401e-a980-b3a14734b0c3",
   "metadata": {},
   "outputs": [],
   "source": [
    "# messages = [\n",
    "#     SystemMessage(content='Translate from English to Spanish'),\n",
    "#     HumanMessage(content='How are you doing?'),\n",
    "# ]"
   ]
  },
  {
   "cell_type": "code",
   "execution_count": 10,
   "id": "431d8e2e-7feb-4a89-9550-6598fd9c04a9",
   "metadata": {},
   "outputs": [],
   "source": [
    "# messages"
   ]
  },
  {
   "cell_type": "code",
   "execution_count": 11,
   "id": "e9b096bb-139f-430e-af85-5b1ca005beff",
   "metadata": {},
   "outputs": [],
   "source": [
    "# result = model.invoke(messages)"
   ]
  },
  {
   "cell_type": "code",
   "execution_count": 12,
   "id": "6220feef-01eb-4f1f-aa04-5da55ce73578",
   "metadata": {},
   "outputs": [],
   "source": [
    "# result"
   ]
  },
  {
   "cell_type": "code",
   "execution_count": 13,
   "id": "c8a8327d-91c5-473a-a9ce-545a0e4f7aea",
   "metadata": {},
   "outputs": [],
   "source": [
    "chain = prompt_template | model | parser"
   ]
  },
  {
   "cell_type": "code",
   "execution_count": 21,
   "id": "1beff761-52f0-4b6a-b371-de1a648ecd4d",
   "metadata": {},
   "outputs": [],
   "source": [
    "result = chain.invoke({\"language\": \"English\", \"input_text\": \"Me gusta leer\"})"
   ]
  },
  {
   "cell_type": "code",
   "execution_count": 22,
   "id": "5b69a3b6-d107-48a4-bc8f-3d8d2231ca0a",
   "metadata": {},
   "outputs": [
    {
     "data": {
      "text/plain": [
       "'I like to read. \\n'"
      ]
     },
     "execution_count": 22,
     "metadata": {},
     "output_type": "execute_result"
    }
   ],
   "source": [
    "result"
   ]
  },
  {
   "cell_type": "code",
   "execution_count": null,
   "id": "16d244a8-8d74-4995-953d-6def50fe12eb",
   "metadata": {},
   "outputs": [],
   "source": []
  },
  {
   "cell_type": "code",
   "execution_count": null,
   "id": "86f3b60d-5275-4181-888a-2f080133272c",
   "metadata": {},
   "outputs": [],
   "source": []
  }
 ],
 "metadata": {
  "kernelspec": {
   "display_name": "Python 3 (ipykernel)",
   "language": "python",
   "name": "python3"
  },
  "language_info": {
   "codemirror_mode": {
    "name": "ipython",
    "version": 3
   },
   "file_extension": ".py",
   "mimetype": "text/x-python",
   "name": "python",
   "nbconvert_exporter": "python",
   "pygments_lexer": "ipython3",
   "version": "3.10.11"
  }
 },
 "nbformat": 4,
 "nbformat_minor": 5
}
