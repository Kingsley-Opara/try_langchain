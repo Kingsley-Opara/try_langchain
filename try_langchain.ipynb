{
 "cells": [
  {
   "cell_type": "code",
   "execution_count": 69,
   "id": "167fc199-69c5-44cc-9217-089390730dbc",
   "metadata": {},
   "outputs": [
    {
     "data": {
      "text/plain": [
       "True"
      ]
     },
     "execution_count": 69,
     "metadata": {},
     "output_type": "execute_result"
    }
   ],
   "source": [
    "from decouple import config\n",
    "import helpers\n",
    "from dotenv import load_dotenv\n",
    "\n",
    "load_dotenv()"
   ]
  },
  {
   "cell_type": "code",
   "execution_count": 71,
   "id": "7524fc97-60e4-4f4b-be6f-3fd5d0b2ad65",
   "metadata": {},
   "outputs": [],
   "source": [
    "import os\n",
    "\n",
    "GEMINI_API_KEY = os.environ.get(\"GEMINI_API_KEY\")"
   ]
  },
  {
   "cell_type": "code",
   "execution_count": 72,
   "id": "0285e418-3eeb-4856-b1a8-86448330b050",
   "metadata": {},
   "outputs": [],
   "source": [
    "from langchain_openai import ChatOpenAI\n",
    "from langchain_google_genai import ChatGoogleGenerativeAI"
   ]
  },
  {
   "cell_type": "code",
   "execution_count": 73,
   "id": "1e14b19f-4d9a-43c0-8ec5-0cd2383954ec",
   "metadata": {},
   "outputs": [],
   "source": [
    "LLM_CONFIG = {\n",
    "    \"model\": \"gemini-1.5-pro\",\n",
    "    \"google_api_key\": GEMINI_API_KEY,\n",
    "}\n",
    "\n",
    "model = ChatGoogleGenerativeAI(**LLM_CONFIG)\n"
   ]
  },
  {
   "cell_type": "code",
   "execution_count": 74,
   "id": "e8dd3839-eaee-4613-bef2-8b72d255aad5",
   "metadata": {},
   "outputs": [],
   "source": [
    "from langchain_core.messages import HumanMessage, SystemMessage"
   ]
  },
  {
   "cell_type": "code",
   "execution_count": 75,
   "id": "50178754-a8b3-401e-a980-b3a14734b0c3",
   "metadata": {},
   "outputs": [],
   "source": [
    "messages = [\n",
    "    SystemMessage(content='Translate from English to Spanish'),\n",
    "    HumanMessage(content='How are you doing?'),\n",
    "]"
   ]
  },
  {
   "cell_type": "code",
   "execution_count": 76,
   "id": "431d8e2e-7feb-4a89-9550-6598fd9c04a9",
   "metadata": {},
   "outputs": [
    {
     "data": {
      "text/plain": [
       "[SystemMessage(content='Translate from English to Spanish', additional_kwargs={}, response_metadata={}),\n",
       " HumanMessage(content='How are you doing?', additional_kwargs={}, response_metadata={})]"
      ]
     },
     "execution_count": 76,
     "metadata": {},
     "output_type": "execute_result"
    }
   ],
   "source": [
    "messages"
   ]
  },
  {
   "cell_type": "code",
   "execution_count": 77,
   "id": "e9b096bb-139f-430e-af85-5b1ca005beff",
   "metadata": {},
   "outputs": [],
   "source": [
    "result = model.invoke(messages)"
   ]
  },
  {
   "cell_type": "code",
   "execution_count": 78,
   "id": "6220feef-01eb-4f1f-aa04-5da55ce73578",
   "metadata": {},
   "outputs": [
    {
     "data": {
      "text/plain": [
       "AIMessage(content='¿Cómo estás?  (informal) \\n\\n¿Cómo está? (formal, addressing one person)\\n\\n¿Cómo están? (formal/informal, addressing more than one person) \\n', additional_kwargs={}, response_metadata={'prompt_feedback': {'block_reason': 0, 'safety_ratings': []}, 'finish_reason': 'STOP', 'safety_ratings': [{'category': 'HARM_CATEGORY_SEXUALLY_EXPLICIT', 'probability': 'NEGLIGIBLE', 'blocked': False}, {'category': 'HARM_CATEGORY_HATE_SPEECH', 'probability': 'NEGLIGIBLE', 'blocked': False}, {'category': 'HARM_CATEGORY_HARASSMENT', 'probability': 'NEGLIGIBLE', 'blocked': False}, {'category': 'HARM_CATEGORY_DANGEROUS_CONTENT', 'probability': 'NEGLIGIBLE', 'blocked': False}]}, id='run-289a769a-7b4f-4752-b5f2-098c77454f70-0', usage_metadata={'input_tokens': 11, 'output_tokens': 39, 'total_tokens': 50})"
      ]
     },
     "execution_count": 78,
     "metadata": {},
     "output_type": "execute_result"
    }
   ],
   "source": [
    "result"
   ]
  },
  {
   "cell_type": "code",
   "execution_count": 79,
   "id": "be329c09-b9d8-4ccb-8af5-7517aae45dce",
   "metadata": {},
   "outputs": [],
   "source": [
    "from langchain_core.output_parsers import StrOutputParser"
   ]
  },
  {
   "cell_type": "code",
   "execution_count": 80,
   "id": "f0009c05-d420-48dc-b9c8-f686ae1eac54",
   "metadata": {},
   "outputs": [],
   "source": [
    "parser = StrOutputParser()"
   ]
  },
  {
   "cell_type": "code",
   "execution_count": 81,
   "id": "c8a8327d-91c5-473a-a9ce-545a0e4f7aea",
   "metadata": {},
   "outputs": [],
   "source": [
    "chain = model | parser"
   ]
  },
  {
   "cell_type": "code",
   "execution_count": 82,
   "id": "1beff761-52f0-4b6a-b371-de1a648ecd4d",
   "metadata": {},
   "outputs": [],
   "source": [
    "result = chain.invoke(messages)"
   ]
  },
  {
   "cell_type": "code",
   "execution_count": 83,
   "id": "5b69a3b6-d107-48a4-bc8f-3d8d2231ca0a",
   "metadata": {},
   "outputs": [
    {
     "data": {
      "text/plain": [
       "'¿Cómo estás?  (informal) \\n\\n¿Cómo está? (formal, to a man)\\n\\n¿Cómo está usted? (formal, to a woman) \\n'"
      ]
     },
     "execution_count": 83,
     "metadata": {},
     "output_type": "execute_result"
    }
   ],
   "source": [
    "result"
   ]
  },
  {
   "cell_type": "code",
   "execution_count": null,
   "id": "16d244a8-8d74-4995-953d-6def50fe12eb",
   "metadata": {},
   "outputs": [],
   "source": []
  },
  {
   "cell_type": "code",
   "execution_count": null,
   "id": "86f3b60d-5275-4181-888a-2f080133272c",
   "metadata": {},
   "outputs": [],
   "source": []
  }
 ],
 "metadata": {
  "kernelspec": {
   "display_name": "Python 3 (ipykernel)",
   "language": "python",
   "name": "python3"
  },
  "language_info": {
   "codemirror_mode": {
    "name": "ipython",
    "version": 3
   },
   "file_extension": ".py",
   "mimetype": "text/x-python",
   "name": "python",
   "nbconvert_exporter": "python",
   "pygments_lexer": "ipython3",
   "version": "3.10.11"
  }
 },
 "nbformat": 4,
 "nbformat_minor": 5
}
